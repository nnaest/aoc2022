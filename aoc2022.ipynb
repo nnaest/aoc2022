{
 "cells": [
  {
   "cell_type": "markdown",
   "metadata": {},
   "source": [
    "# AOC 2022\n",
    "\n",
    "Welcome to the Advent of Code 2022 !"
   ]
  },
  {
   "cell_type": "markdown",
   "metadata": {},
   "source": [
    "## Basic configuration\n",
    "\n"
   ]
  },
  {
   "cell_type": "code",
   "execution_count": null,
   "metadata": {},
   "outputs": [],
   "source": [
    "# help for aocd : https://pypi.org/project/advent-of-code-data/\n",
    "\n",
    "#!pip install aocd"
   ]
  },
  {
   "cell_type": "code",
   "execution_count": null,
   "metadata": {},
   "outputs": [],
   "source": [
    "import os\n",
    "\n",
    "# replace by your login session cookie\n",
    "os.environ[\n",
    "    \"AOC_SESSION\"\n",
    "] = \"\"  # your login session cookie"
   ]
  },
  {
   "cell_type": "code",
   "execution_count": null,
   "metadata": {},
   "outputs": [],
   "source": [
    "from aocd import submit\n",
    "from aocd.models import Puzzle"
   ]
  },
  {
   "cell_type": "code",
   "execution_count": null,
   "metadata": {},
   "outputs": [],
   "source": [
    "import numpy as np\n",
    "from tqdm import tqdm\n",
    "import json\n",
    "import typing as tp\n",
    "from collections import Counter, defaultdict, deque\n",
    "import math\n",
    "from itertools import product\n",
    "import re\n",
    "import string\n",
    "import matplotlib.pyplot as plt"
   ]
  },
  {
   "cell_type": "markdown",
   "metadata": {},
   "source": [
    "## Day 16\n",
    "https://adventofcode.com/2022/day/16\n",
    "### Prepare input "
   ]
  },
  {
   "cell_type": "code",
   "execution_count": null,
   "metadata": {},
   "outputs": [],
   "source": []
  },
  {
   "cell_type": "code",
   "execution_count": null,
   "metadata": {},
   "outputs": [],
   "source": []
  },
  {
   "cell_type": "code",
   "execution_count": null,
   "metadata": {},
   "outputs": [],
   "source": []
  },
  {
   "cell_type": "code",
   "execution_count": null,
   "metadata": {},
   "outputs": [],
   "source": []
  },
  {
   "cell_type": "markdown",
   "metadata": {},
   "source": [
    "## Day 15\n",
    "https://adventofcode.com/2022/day/15\n",
    "### Prepare input "
   ]
  },
  {
   "cell_type": "code",
   "execution_count": null,
   "metadata": {
    "scrolled": false
   },
   "outputs": [],
   "source": [
    "puzzle = Puzzle(year=2022,day=15)\n",
    "content = puzzle.input_data.split(\"\\n\")"
   ]
  },
  {
   "cell_type": "code",
   "execution_count": null,
   "metadata": {},
   "outputs": [],
   "source": [
    "def l1_distance(x1,y1,x2,y2):\n",
    "    return abs(x1-x2)+abs(y1-y2)"
   ]
  },
  {
   "cell_type": "code",
   "execution_count": null,
   "metadata": {},
   "outputs": [],
   "source": [
    "class Sensor:\n",
    "    def __init__(self, x,y,bx,by): \n",
    "        self.x = x\n",
    "        self.y = y\n",
    "        self.bx = bx\n",
    "        self.by = by\n",
    "        self.beacon_distance = l1_distance(self.x,self.y,self.bx,self.by) \n",
    "        self.min_x = self.x - self.beacon_distance\n",
    "        self.max_x = self.x + self.beacon_distance\n",
    "        \n",
    "    def check_pos(self, pos):\n",
    "        return l1_distance(self.x,self.y, pos[0],pos[1]) <= self.beacon_distance\n",
    "    \n",
    "    def get_outer_edge(self):\n",
    "        edge = set()\n",
    "        for d in range(-self.beacon_distance-1, self.beacon_distance+2):\n",
    "            diff = self.beacon_distance + 1 - abs(d)\n",
    "            x = self.x + d\n",
    "            y1 = self.y + diff\n",
    "            y2 = self.y - diff \n",
    "            if 0 <= x <= 4000000: \n",
    "                if 0 <= y1 <= 4000000:\n",
    "                    edge.add((x,y1))\n",
    "                if 0 <= y2 <= 4000000:\n",
    "                    edge.add((x,y2))\n",
    "        \n",
    "        return edge\n",
    "            "
   ]
  },
  {
   "cell_type": "code",
   "execution_count": null,
   "metadata": {},
   "outputs": [],
   "source": [
    "pattern = r\"Sensor at x=(-?\\d+), y=(-?\\d+): closest beacon is at x=(-?\\d+), y=(-?\\d+)\"\n",
    "\n",
    "sensors = []\n",
    "\n",
    "for idx, line in enumerate(content): \n",
    "    match = re.search(pattern, line)\n",
    "    sx = match.group(1)\n",
    "    sy = match.group(2)\n",
    "    bx = match.group(3)\n",
    "    by = match.group(4)\n",
    "    sensors.append(Sensor(int(sx),int(sy),int(bx),int(by)))"
   ]
  },
  {
   "cell_type": "markdown",
   "metadata": {},
   "source": [
    "### Part 1"
   ]
  },
  {
   "cell_type": "code",
   "execution_count": null,
   "metadata": {},
   "outputs": [],
   "source": [
    "start_x = min(s.min_x for s in sensors)\n",
    "end_x = max(s.max_x for s in sensors)"
   ]
  },
  {
   "cell_type": "code",
   "execution_count": null,
   "metadata": {},
   "outputs": [],
   "source": [
    "y = 2000000\n",
    "\n",
    "positions = []\n",
    "for x in tqdm(range(start_x, end_x+1)): \n",
    "    for s in sensors: \n",
    "        if s.check_pos((x,y)): \n",
    "            positions.append(x)"
   ]
  },
  {
   "cell_type": "code",
   "execution_count": null,
   "metadata": {},
   "outputs": [],
   "source": [
    "n_beacons = len(set([s.bx for s in sensors if s.by == y]))"
   ]
  },
  {
   "cell_type": "code",
   "execution_count": null,
   "metadata": {},
   "outputs": [],
   "source": [
    "answ = len(set(positions))-n_beacons\n",
    "answ"
   ]
  },
  {
   "cell_type": "code",
   "execution_count": null,
   "metadata": {},
   "outputs": [],
   "source": [
    "puzzle.answer_a = answ"
   ]
  },
  {
   "cell_type": "markdown",
   "metadata": {},
   "source": [
    "### Part 2"
   ]
  },
  {
   "cell_type": "code",
   "execution_count": null,
   "metadata": {},
   "outputs": [],
   "source": [
    "outer_edges = set().union(*[s.get_outer_edge() for s in sensors])"
   ]
  },
  {
   "cell_type": "code",
   "execution_count": null,
   "metadata": {},
   "outputs": [],
   "source": [
    "for pos in tqdm(outer_edges):\n",
    "    for s in sensors: \n",
    "        if s.check_pos(pos): \n",
    "                break \n",
    "    else: \n",
    "        print(f\"Position found {pos}\")\n",
    "        raise\n",
    "                 "
   ]
  },
  {
   "cell_type": "code",
   "execution_count": null,
   "metadata": {},
   "outputs": [],
   "source": [
    "def frequency(x,y):\n",
    "    return x * 4000000 + y"
   ]
  },
  {
   "cell_type": "code",
   "execution_count": null,
   "metadata": {},
   "outputs": [],
   "source": [
    "answ = frequency(3267801,2703981)\n",
    "puzzle.answer_b = answ"
   ]
  },
  {
   "cell_type": "markdown",
   "metadata": {},
   "source": [
    "## Day 14\n",
    "https://adventofcode.com/2022/day/14\n",
    "### Prepare input "
   ]
  },
  {
   "cell_type": "code",
   "execution_count": null,
   "metadata": {},
   "outputs": [],
   "source": [
    "puzzle = Puzzle(year=2022,day=14)\n",
    "content = puzzle.input_data.split(\"\\n\")"
   ]
  },
  {
   "cell_type": "code",
   "execution_count": null,
   "metadata": {},
   "outputs": [],
   "source": [
    "def draw_line(pos1,pos2): \n",
    "    x_start=min(pos1[0],pos2[0])\n",
    "    x_end=max(pos1[0],pos2[0])\n",
    "    y_start=min(pos1[1],pos2[1])\n",
    "    y_end=max(pos1[1],pos2[1])\n",
    "    \n",
    "    return [(x,y) for x in range(x_start, x_end+1) for y in range(y_start,y_end+1)]"
   ]
  },
  {
   "cell_type": "code",
   "execution_count": null,
   "metadata": {},
   "outputs": [],
   "source": [
    "def prepare_scan(grid): \n",
    "    for cont in content: \n",
    "        coords = cont.split(\" -> \")\n",
    "        for c1,c2 in zip(coords, coords[1:]): \n",
    "            c1 = tuple(map(int, c1.split(\",\")))\n",
    "            c2 = tuple(map(int, c2.split(\",\")))\n",
    "            line = draw_line(c1,c2)\n",
    "            for l in line: \n",
    "                grid[l] = \"#\"\n",
    "    return grid"
   ]
  },
  {
   "cell_type": "code",
   "execution_count": null,
   "metadata": {},
   "outputs": [],
   "source": [
    "scan = prepare_scan(defaultdict(lambda:\".\"))"
   ]
  },
  {
   "cell_type": "markdown",
   "metadata": {},
   "source": [
    "### Part 1"
   ]
  },
  {
   "cell_type": "code",
   "execution_count": null,
   "metadata": {},
   "outputs": [],
   "source": [
    "def step(grid, pos): \n",
    "    x,y = pos    \n",
    "    if grid[(x,y+1)] in {\"#\", \"o\"}:\n",
    "        if grid[(x-1,y+1)] in {\"#\", \"o\"}: \n",
    "            if grid[(x+1,y+1)] in {\"#\", \"o\"}: \n",
    "                return pos\n",
    "            return (x+1,y+1)\n",
    "        return (x-1,y+1)\n",
    "    return (x,y+1)\n"
   ]
  },
  {
   "cell_type": "code",
   "execution_count": null,
   "metadata": {},
   "outputs": [],
   "source": [
    "def move_one_sand(grid, bottom): \n",
    "    cur_pos = (500,0)\n",
    "    new_pos = step(grid,cur_pos)\n",
    "    while new_pos != cur_pos: \n",
    "        cur_pos = new_pos\n",
    "        new_pos = step(grid, cur_pos)\n",
    "        if new_pos[1] > bottom:\n",
    "            return \"Stop\"\n",
    "    grid[new_pos] = \"o\"\n",
    "    return grid"
   ]
  },
  {
   "cell_type": "code",
   "execution_count": null,
   "metadata": {},
   "outputs": [],
   "source": [
    "bottom = max(k[1] for k in scan.keys())"
   ]
  },
  {
   "cell_type": "code",
   "execution_count": null,
   "metadata": {},
   "outputs": [],
   "source": [
    "count = 0\n",
    "while True: \n",
    "    scan = move_one_sand(scan, bottom)\n",
    "    if scan == \"Stop\": \n",
    "        break\n",
    "    count += 1    "
   ]
  },
  {
   "cell_type": "code",
   "execution_count": null,
   "metadata": {},
   "outputs": [],
   "source": [
    "count"
   ]
  },
  {
   "cell_type": "code",
   "execution_count": null,
   "metadata": {},
   "outputs": [],
   "source": [
    "puzzle.answer_a = count"
   ]
  },
  {
   "cell_type": "markdown",
   "metadata": {},
   "source": [
    "### Part 2"
   ]
  },
  {
   "cell_type": "code",
   "execution_count": null,
   "metadata": {},
   "outputs": [],
   "source": [
    "class DefaultDict(defaultdict):\n",
    "    def __missing__(self, key):\n",
    "        return self.default_factory(key)"
   ]
  },
  {
   "cell_type": "code",
   "execution_count": null,
   "metadata": {},
   "outputs": [],
   "source": [
    "FLOOR = bottom+2"
   ]
  },
  {
   "cell_type": "code",
   "execution_count": null,
   "metadata": {},
   "outputs": [],
   "source": [
    "def set_default(key): \n",
    "    return \"#\" if key[1] == FLOOR else \".\"\n",
    "\n",
    "scan_2 = prepare_scan(DefaultDict(set_default))"
   ]
  },
  {
   "cell_type": "code",
   "execution_count": null,
   "metadata": {},
   "outputs": [],
   "source": [
    "def move_one_sand_2(grid): \n",
    "    cur_pos = (500,0)\n",
    "    new_pos = step(grid,cur_pos)\n",
    "    if cur_pos == new_pos: \n",
    "        return \"Stop\"\n",
    "    \n",
    "    while new_pos != cur_pos: \n",
    "        cur_pos = new_pos\n",
    "        new_pos = step(grid, cur_pos)\n",
    "        \n",
    "    grid[new_pos] = \"o\"\n",
    "    return grid"
   ]
  },
  {
   "cell_type": "code",
   "execution_count": null,
   "metadata": {},
   "outputs": [],
   "source": [
    "count = 0\n",
    "while True: \n",
    "    scan_2 = move_one_sand_2(scan_2)\n",
    "    count += 1 \n",
    "    if scan_2 == \"Stop\": \n",
    "        break\n",
    "       "
   ]
  },
  {
   "cell_type": "code",
   "execution_count": null,
   "metadata": {
    "scrolled": true
   },
   "outputs": [],
   "source": [
    "count"
   ]
  },
  {
   "cell_type": "code",
   "execution_count": null,
   "metadata": {},
   "outputs": [],
   "source": [
    "puzzle.answer_b = count"
   ]
  },
  {
   "cell_type": "markdown",
   "metadata": {},
   "source": [
    "## Day 13\n",
    "https://adventofcode.com/2022/day/13\n",
    "### Prepare input "
   ]
  },
  {
   "cell_type": "code",
   "execution_count": null,
   "metadata": {},
   "outputs": [],
   "source": [
    "puzzle = Puzzle(year=2022,day=13)\n",
    "content = [[eval(el) for el in line.split(\"\\n\")] for line in puzzle.input_data.split(\"\\n\\n\")]"
   ]
  },
  {
   "cell_type": "markdown",
   "metadata": {},
   "source": [
    "### Part 1"
   ]
  },
  {
   "cell_type": "code",
   "execution_count": null,
   "metadata": {},
   "outputs": [],
   "source": [
    "def compare(left,right): \n",
    "    if type(left) != type(right): \n",
    "        if isinstance(left, int): \n",
    "            left = [left]\n",
    "        else: \n",
    "            right = [right]\n",
    "        \n",
    "    if isinstance(left,int) and isinstance(right,int):\n",
    "        return left < right if left != right else None\n",
    "        \n",
    "    for l,r in zip(left,right): \n",
    "        comp = compare(l,r)\n",
    "        if comp is None: \n",
    "            continue\n",
    "        return comp\n",
    "    \n",
    "    return len(left) < len(right) if len(left) != len(right) else None\n"
   ]
  },
  {
   "cell_type": "code",
   "execution_count": null,
   "metadata": {},
   "outputs": [],
   "source": [
    "right_pairs = []\n",
    "\n",
    "for idx, (left, right) in enumerate(content): \n",
    "    comp = compare(left, right)\n",
    "    if comp: \n",
    "        right_pairs.append(idx+1)\n",
    "\n",
    "answ = sum(right_pairs)\n",
    "answ"
   ]
  },
  {
   "cell_type": "code",
   "execution_count": null,
   "metadata": {},
   "outputs": [],
   "source": [
    "puzzle.answer_a = answ"
   ]
  },
  {
   "cell_type": "markdown",
   "metadata": {},
   "source": [
    "### Part 2"
   ]
  },
  {
   "cell_type": "code",
   "execution_count": null,
   "metadata": {},
   "outputs": [],
   "source": [
    "content_2 = \"\\n\".join(puzzle.input_data.split(\"\\n\\n\")).split(\"\\n\")"
   ]
  },
  {
   "cell_type": "code",
   "execution_count": null,
   "metadata": {},
   "outputs": [],
   "source": [
    "content_2.extend([\"[[2]]\", \"[[6]]\"])"
   ]
  },
  {
   "cell_type": "code",
   "execution_count": null,
   "metadata": {},
   "outputs": [],
   "source": [
    "def compare_2(left, right): \n",
    "    comp = compare(eval(left), eval(right))\n",
    "    if comp is None:\n",
    "        return 0\n",
    "    if comp:\n",
    "        return 1\n",
    "    return -1"
   ]
  },
  {
   "cell_type": "code",
   "execution_count": null,
   "metadata": {},
   "outputs": [],
   "source": [
    "from functools import cmp_to_key"
   ]
  },
  {
   "cell_type": "code",
   "execution_count": null,
   "metadata": {},
   "outputs": [],
   "source": [
    "content_2.sort(key=cmp_to_key(compare_2), reverse=True)"
   ]
  },
  {
   "cell_type": "code",
   "execution_count": null,
   "metadata": {},
   "outputs": [],
   "source": [
    "answ = (content_2.index(\"[[2]]\") + 1) * (content_2.index(\"[[6]]\") + 1)"
   ]
  },
  {
   "cell_type": "code",
   "execution_count": null,
   "metadata": {},
   "outputs": [],
   "source": [
    "answ"
   ]
  },
  {
   "cell_type": "code",
   "execution_count": null,
   "metadata": {},
   "outputs": [],
   "source": [
    "puzzle.answer_b = answ"
   ]
  },
  {
   "cell_type": "markdown",
   "metadata": {},
   "source": [
    "## Day 12\n",
    "https://adventofcode.com/2022/day/12\n",
    "### Prepare input "
   ]
  },
  {
   "cell_type": "code",
   "execution_count": null,
   "metadata": {
    "scrolled": true
   },
   "outputs": [],
   "source": [
    "puzzle = Puzzle(year=2022,day=12)\n",
    "content = puzzle.input_data.split(\"\\n\")"
   ]
  },
  {
   "cell_type": "code",
   "execution_count": null,
   "metadata": {},
   "outputs": [],
   "source": [
    "def get_neighbours(pos:tuple,max_pos:tuple)->list: \n",
    "    y,x = pos\n",
    "    max_y,max_x = max_pos\n",
    "    top = None if y == 0 else (y-1,x)\n",
    "    bottom = None if y == max_y else(y+1,x)\n",
    "    left = None if x==0 else (y,x-1)\n",
    "    right = None if x==max_x else (y,x+1)\n",
    "    \n",
    "    return [top, bottom, left, right]"
   ]
  },
  {
   "cell_type": "code",
   "execution_count": null,
   "metadata": {},
   "outputs": [],
   "source": [
    "height_graph = {}\n",
    "\n",
    "max_pos = (len(content)-1,len(content[0])-1)\n",
    "\n",
    "for ldx, line in enumerate(content): \n",
    "    for cdx, char in enumerate(line): \n",
    "        pos = (ldx,cdx)\n",
    "        if char == \"S\": \n",
    "            start_pos = pos\n",
    "            cur_h = 0\n",
    "        elif char == \"E\":\n",
    "            end_pos = pos\n",
    "            cur_h = 25\n",
    "        else:\n",
    "            cur_h = int(string.ascii_lowercase.rfind(char))\n",
    "            \n",
    "        neighbours = get_neighbours(pos,max_pos)\n",
    "        ok_neighbours = []\n",
    "        for n in neighbours: \n",
    "            if n is not None:\n",
    "                n_h = int(string.ascii_lowercase.rfind(content[n[0]][n[1]]))\n",
    "                if n_h<=cur_h+1:\n",
    "                    ok_neighbours.append(n)\n",
    "        \n",
    "        height_graph[pos]={\"height\":cur_h, \"neighbours\":ok_neighbours}"
   ]
  },
  {
   "cell_type": "markdown",
   "metadata": {},
   "source": [
    "### Part 1"
   ]
  },
  {
   "cell_type": "code",
   "execution_count": null,
   "metadata": {},
   "outputs": [],
   "source": [
    "def bfs(graph:dict, start:tuple,end:tuple)->list: \n",
    "        all_paths = [[start]]\n",
    "        path_idx = 0\n",
    "\n",
    "        previous_nodes = {start}\n",
    "        if start == end:\n",
    "            return path[0]\n",
    "\n",
    "        while path_idx < len(all_paths):\n",
    "            \n",
    "            cur_path = all_paths[path_idx]\n",
    "            \n",
    "            last_node = cur_path[-1]\n",
    "            next_nodes = graph[last_node][\"neighbours\"]\n",
    "\n",
    "            if end in next_nodes:\n",
    "                cur_path.append(end)\n",
    "                return cur_path\n",
    "            \n",
    "            for next_node in next_nodes:\n",
    "                if not next_node in previous_nodes:\n",
    "                    new_path = cur_path[:]\n",
    "                    new_path.append(next_node)\n",
    "                    all_paths.append(new_path)\n",
    "                    \n",
    "                    previous_nodes.add(next_node)\n",
    "            \n",
    "            path_idx += 1\n",
    "        \n",
    "        return []"
   ]
  },
  {
   "cell_type": "code",
   "execution_count": null,
   "metadata": {},
   "outputs": [],
   "source": [
    "shortest_path = bfs(height_graph, start_pos, end_pos)"
   ]
  },
  {
   "cell_type": "code",
   "execution_count": null,
   "metadata": {},
   "outputs": [],
   "source": [
    "answ = len(shortest_path)-1\n",
    "answ"
   ]
  },
  {
   "cell_type": "code",
   "execution_count": null,
   "metadata": {},
   "outputs": [],
   "source": [
    "puzzle.answer_a = answ"
   ]
  },
  {
   "cell_type": "markdown",
   "metadata": {},
   "source": [
    "### Part 2"
   ]
  },
  {
   "cell_type": "code",
   "execution_count": null,
   "metadata": {},
   "outputs": [],
   "source": [
    "starts = [pos for pos, info in height_graph.items() if info[\"height\"]==0]"
   ]
  },
  {
   "cell_type": "code",
   "execution_count": null,
   "metadata": {},
   "outputs": [],
   "source": [
    "path_lengths = []\n",
    "for s in tqdm(starts): \n",
    "    short = bfs(height_graph, s, end_pos)\n",
    "    if len(short) != 0:\n",
    "        path_lengths.append(len(short))\n",
    "        \n",
    "answ=min(path_lengths)-1\n",
    "answ"
   ]
  },
  {
   "cell_type": "code",
   "execution_count": null,
   "metadata": {},
   "outputs": [],
   "source": [
    "puzzle.answer_b = answ"
   ]
  },
  {
   "cell_type": "markdown",
   "metadata": {},
   "source": [
    "## Day 11\n",
    "https://adventofcode.com/2022/day/11\n",
    "### Prepare input "
   ]
  },
  {
   "cell_type": "code",
   "execution_count": null,
   "metadata": {},
   "outputs": [],
   "source": [
    "puzzle = Puzzle(year=2022,day=11)\n",
    "puzzle_monkeys = puzzle.input_data.split(\"\\n\\n\")"
   ]
  },
  {
   "cell_type": "code",
   "execution_count": null,
   "metadata": {},
   "outputs": [],
   "source": [
    "class Monkey: \n",
    "    def __init__(self, content: str): \n",
    "        content = content.split(\"\\n\")\n",
    "        self.idx = int(content[0][-2])\n",
    "        self.start_items = deque([int(x) for x in content[1].split(\":\")[1].strip().split(\",\")])\n",
    "        self._operation = content[2].split(\"=\")[1].strip()\n",
    "        \n",
    "        self._test_div = int(content[3].replace(\"Test: divisible by\", \"\").strip())\n",
    "        self._test_true = int(content[4][-1])\n",
    "        self._test_false = int(content[5][-1])\n",
    "        \n",
    "        self.n_inspected = 0\n",
    "        \n",
    "    def operation(self, old:str)->int: \n",
    "        return eval(self._operation.replace(\"old\", str(old)))\n",
    "        \n",
    "    def test(self, worry_level:int)->int:\n",
    "        if worry_level % self._test_div == 0: \n",
    "            return self._test_true\n",
    "        return self._test_false"
   ]
  },
  {
   "cell_type": "markdown",
   "metadata": {},
   "source": [
    "### Part 1"
   ]
  },
  {
   "cell_type": "code",
   "execution_count": null,
   "metadata": {},
   "outputs": [],
   "source": [
    "def do_one_round(monkeys:list, part:tp.Optional[int]=1,common_mult:tp.Optional[int]=None)->list:\n",
    "    for monkey in monkeys: \n",
    "        if len(monkey.start_items) == 0:\n",
    "            continue\n",
    "            \n",
    "        while len(monkey.start_items) != 0: \n",
    "            item_worry = monkey.start_items.popleft()\n",
    "            item_worry = monkey.operation(item_worry)\n",
    "            monkey.n_inspected += 1\n",
    "            \n",
    "            item_worry = item_worry // 3 if part == 1 else item_worry % common_mult\n",
    "            \n",
    "            new_monkey_idx = monkey.test(item_worry)\n",
    "            monkeys[new_monkey_idx].start_items.append(item_worry)\n",
    "            \n",
    "    return monkeys"
   ]
  },
  {
   "cell_type": "code",
   "execution_count": null,
   "metadata": {},
   "outputs": [],
   "source": [
    "def monkey_business(monkeys:list)->int: \n",
    "    return math.prod(sorted([m.n_inspected for m in monkeys], reverse=True)[:2])"
   ]
  },
  {
   "cell_type": "code",
   "execution_count": null,
   "metadata": {},
   "outputs": [],
   "source": [
    "monkeys = [Monkey(m) for m in puzzle_monkeys]\n",
    "for _ in range(20): \n",
    "    monkeys = do_one_round(monkeys)"
   ]
  },
  {
   "cell_type": "code",
   "execution_count": null,
   "metadata": {},
   "outputs": [],
   "source": [
    "answ = monkey_business(monkeys) \n",
    "answ"
   ]
  },
  {
   "cell_type": "code",
   "execution_count": null,
   "metadata": {},
   "outputs": [],
   "source": [
    "puzzle.answer_a = answ"
   ]
  },
  {
   "cell_type": "markdown",
   "metadata": {},
   "source": [
    "### Part 2"
   ]
  },
  {
   "cell_type": "code",
   "execution_count": null,
   "metadata": {},
   "outputs": [],
   "source": [
    "monkeys = [Monkey(m) for m in puzzle_monkeys]\n",
    "common_multiple = math.prod(m._test_div for m in monkeys)\n",
    "\n",
    "for _ in tqdm(range(10000)): \n",
    "    monkeys = do_one_round(monkeys, 2, common_multiple)"
   ]
  },
  {
   "cell_type": "code",
   "execution_count": null,
   "metadata": {},
   "outputs": [],
   "source": [
    "answ = monkey_business(monkeys) #25590400731\n",
    "answ"
   ]
  },
  {
   "cell_type": "code",
   "execution_count": null,
   "metadata": {},
   "outputs": [],
   "source": [
    "puzzle.answer_b = answ"
   ]
  },
  {
   "cell_type": "markdown",
   "metadata": {},
   "source": [
    "## Day 10\n",
    "https://adventofcode.com/2022/day/10\n",
    "### Prepare input "
   ]
  },
  {
   "cell_type": "code",
   "execution_count": null,
   "metadata": {},
   "outputs": [],
   "source": [
    "puzzle = Puzzle(year=2022, day=10)\n",
    "content = puzzle.input_data.split(\"\\n\")"
   ]
  },
  {
   "cell_type": "markdown",
   "metadata": {},
   "source": [
    "### Part 1"
   ]
  },
  {
   "cell_type": "code",
   "execution_count": null,
   "metadata": {},
   "outputs": [],
   "source": [
    "def compute_signal(n:int,x:int)->int: \n",
    "    if n%40==20: \n",
    "        return n*x\n",
    "    return 0"
   ]
  },
  {
   "cell_type": "code",
   "execution_count": null,
   "metadata": {},
   "outputs": [],
   "source": [
    "x = 1\n",
    "strenghts = []\n",
    "n_cycle = 0\n",
    "for line in content: \n",
    "    if line==\"noop\": \n",
    "        n_cycle +=1\n",
    "        strenghts.append(compute_signal(n_cycle, x))\n",
    "    else: \n",
    "        n_cycle += 1\n",
    "        strenghts.append(compute_signal(n_cycle, x))\n",
    "        n_cycle += 1\n",
    "        strenghts.append(compute_signal(n_cycle, x))           \n",
    "        _, v = line.split(\" \")\n",
    "        x += int(v)\n",
    "        "
   ]
  },
  {
   "cell_type": "code",
   "execution_count": null,
   "metadata": {},
   "outputs": [],
   "source": [
    "answ = sum(strenghts)"
   ]
  },
  {
   "cell_type": "code",
   "execution_count": null,
   "metadata": {},
   "outputs": [],
   "source": [
    "answ"
   ]
  },
  {
   "cell_type": "code",
   "execution_count": null,
   "metadata": {},
   "outputs": [],
   "source": [
    "puzzle.answer_a = answ"
   ]
  },
  {
   "cell_type": "markdown",
   "metadata": {},
   "source": [
    "### Part 2"
   ]
  },
  {
   "cell_type": "code",
   "execution_count": null,
   "metadata": {},
   "outputs": [],
   "source": [
    "def sprite(x:int)->tuple:\n",
    "    return (x-1,x,x+1)"
   ]
  },
  {
   "cell_type": "code",
   "execution_count": null,
   "metadata": {},
   "outputs": [],
   "source": [
    "def draw_crt(crt_pos:int, x:int)->int: \n",
    "    return 1 if crt_pos%40 in sprite(x) else 0"
   ]
  },
  {
   "cell_type": "code",
   "execution_count": null,
   "metadata": {},
   "outputs": [],
   "source": [
    "x = 1\n",
    "n_cycle = 0\n",
    "crt = []\n",
    "for line in content:\n",
    "    if line == \"noop\": \n",
    "        crt.append(draw_crt(n_cycle, x))\n",
    "        n_cycle += 1\n",
    "    else: \n",
    "        crt.append(draw_crt(n_cycle, x))\n",
    "        n_cycle += 1\n",
    "        \n",
    "        crt.append(draw_crt(n_cycle, x))\n",
    "        n_cycle += 1\n",
    "        _, v = line.split(\" \")\n",
    "        x += int(v)"
   ]
  },
  {
   "cell_type": "code",
   "execution_count": null,
   "metadata": {},
   "outputs": [],
   "source": [
    "crt = np.array(crt).reshape(6, 40)"
   ]
  },
  {
   "cell_type": "code",
   "execution_count": null,
   "metadata": {},
   "outputs": [],
   "source": [
    "plt.imshow(crt)"
   ]
  },
  {
   "cell_type": "code",
   "execution_count": null,
   "metadata": {},
   "outputs": [],
   "source": [
    "puzzle.answer_b = \"EFGERURE\""
   ]
  },
  {
   "cell_type": "markdown",
   "metadata": {},
   "source": [
    "## Day 9\n",
    "https://adventofcode.com/2022/day/9\n",
    "### Prepare input "
   ]
  },
  {
   "cell_type": "code",
   "execution_count": null,
   "metadata": {},
   "outputs": [],
   "source": [
    "puzzle = Puzzle(year=2022, day=9)\n",
    "content =  puzzle.input_data.split(\"\\n\")\n",
    "new_content = []\n",
    "for line in content: \n",
    "    d, n = line.split(\" \")\n",
    "    new_content.append((d, int(n)))"
   ]
  },
  {
   "cell_type": "code",
   "execution_count": null,
   "metadata": {},
   "outputs": [],
   "source": [
    "new_content"
   ]
  },
  {
   "cell_type": "markdown",
   "metadata": {},
   "source": [
    "### Part 1"
   ]
  },
  {
   "cell_type": "code",
   "execution_count": null,
   "metadata": {},
   "outputs": [],
   "source": [
    "def add_tuple(tup1:tuple, tup2:tuple)->tuple: \n",
    "    return tuple(map(lambda i, j: i + j, tup1, tup2))"
   ]
  },
  {
   "cell_type": "code",
   "execution_count": null,
   "metadata": {},
   "outputs": [],
   "source": [
    "def move(pos:tuple, movement:tuple)->tuple: \n",
    "    return add_tuple(pos, movement)"
   ]
  },
  {
   "cell_type": "code",
   "execution_count": null,
   "metadata": {},
   "outputs": [],
   "source": [
    "def move_closer(pos1:tuple, pos2:tuple)->tuple:\n",
    "    diff_x = pos2[0] - pos1[0]\n",
    "    diff_y = pos2[1] - pos1[1]\n",
    "    \n",
    "    if abs(diff_x)>1:\n",
    "        move_x = math.copysign(1,diff_x) \n",
    "        move_y = math.copysign(1,diff_y) if abs(diff_y)>=1 else 0\n",
    "        \n",
    "    elif abs(diff_y)>1:\n",
    "        move_x = math.copysign(1,diff_x) if abs(diff_x)>=1 else 0\n",
    "        move_y = math.copysign(1,diff_y) \n",
    "    else:\n",
    "        move_x = 0\n",
    "        move_y = 0\n",
    "    \n",
    "    return add_tuple(pos1, (move_x, move_y))"
   ]
  },
  {
   "cell_type": "code",
   "execution_count": null,
   "metadata": {},
   "outputs": [],
   "source": [
    "def move_head(pos_h:tuple, direction:str)->tuple: \n",
    "    if direction == \"U\": \n",
    "        pos_h = move(pos_h, (0,1))\n",
    "    elif direction == \"D\": \n",
    "        pos_h = move(pos_h, (0,-1))\n",
    "    elif direction == \"L\":\n",
    "        pos_h = move(pos_h, (-1,0))\n",
    "    else: \n",
    "        pos_h = move(pos_h, (1,0))\n",
    "    return pos_h"
   ]
  },
  {
   "cell_type": "code",
   "execution_count": null,
   "metadata": {},
   "outputs": [],
   "source": [
    "pos_h = (0,0)\n",
    "pos_t = (0,0)\n",
    "\n",
    "t_positions = [pos_t]\n",
    "for direction, n in new_content:\n",
    "    for _ in range(n):\n",
    "        pos_h = move_head(pos_h, direction)\n",
    "        \n",
    "        pos_t = move_closer(pos_t, pos_h)\n",
    "        t_positions.append(pos_t)\n"
   ]
  },
  {
   "cell_type": "code",
   "execution_count": null,
   "metadata": {},
   "outputs": [],
   "source": [
    "answ = len(set(t_positions))\n",
    "answ"
   ]
  },
  {
   "cell_type": "code",
   "execution_count": null,
   "metadata": {},
   "outputs": [],
   "source": [
    "puzzle.answer_a = answ"
   ]
  },
  {
   "cell_type": "markdown",
   "metadata": {},
   "source": [
    "### Part 2"
   ]
  },
  {
   "cell_type": "code",
   "execution_count": null,
   "metadata": {},
   "outputs": [],
   "source": [
    "cur_positions = [(0,0)]*10\n",
    "t_positions = [(0,0)]\n",
    "\n",
    "for direction, n in new_content: \n",
    "    for _ in range(n): \n",
    "        new_positions = [move_head(cur_positions[0], direction)]\n",
    "        for i in range(len(cur_positions)-1):\n",
    "            new_pos = move_closer(cur_positions[i+1], new_positions[i])\n",
    "            new_positions.append(new_pos)\n",
    "        t_positions.append(new_positions[-1])\n",
    "        cur_positions = new_positions"
   ]
  },
  {
   "cell_type": "code",
   "execution_count": null,
   "metadata": {},
   "outputs": [],
   "source": [
    "answ = len(set(t_positions))\n",
    "answ"
   ]
  },
  {
   "cell_type": "code",
   "execution_count": null,
   "metadata": {},
   "outputs": [],
   "source": [
    "puzzle.answer_b = answ"
   ]
  },
  {
   "cell_type": "markdown",
   "metadata": {},
   "source": [
    "## Day 8\n",
    "https://adventofcode.com/2022/day/8\n",
    "### Prepare input "
   ]
  },
  {
   "cell_type": "code",
   "execution_count": null,
   "metadata": {},
   "outputs": [],
   "source": [
    "puzzle = Puzzle(year=2022, day=8)\n",
    "content = puzzle.input_data.split(\"\\n\")"
   ]
  },
  {
   "cell_type": "code",
   "execution_count": null,
   "metadata": {},
   "outputs": [],
   "source": [
    "content =[[int(i) for i in line] for line in content]"
   ]
  },
  {
   "cell_type": "code",
   "execution_count": null,
   "metadata": {},
   "outputs": [],
   "source": [
    "class Tree: \n",
    "    def __init__(self, x:int, y:int, array:np.array): \n",
    "        self.x = x\n",
    "        self.y = y\n",
    "        self.array = array\n",
    "        self.h = array[y,x]\n",
    "        self.on_edge = True if (x in {0, len(array[0])-1} or y in {0, len(array)-1}) else False\n",
    "        self._is_seen = None\n",
    "        self._scenic_score = None\n",
    "        \n",
    "    def check_left(self)->bool: \n",
    "        return all(h < self.h for h in self.array[self.y,:self.x])\n",
    "    def check_right(self)->bool: \n",
    "        return all(h < self.h for h in self.array[self.y,self.x + 1:])\n",
    "    def check_above(self)->bool: \n",
    "        return all(h < self.h for h in self.array[:self.y,self.x])\n",
    "    def check_below(self)->bool: \n",
    "        return all(h < self.h for h in self.array[self.y + 1:,self.x])\n",
    "    \n",
    "    def is_seen(self)->bool:\n",
    "        if self._is_seen is None:\n",
    "            self._is_seen = True if self.on_edge else any([self.check_left(), self.check_right(), self.check_above(), self.check_below()])\n",
    "        return self._is_seen\n",
    "\n",
    "    \n",
    "    def count(self, step_x:int, step_y:int)->int: \n",
    "        cur_x = self.x+step_x\n",
    "        cur_y = self.y+step_y\n",
    "        count = 0\n",
    "        while cur_x >= 0 and cur_x < len(self.array[0]) and cur_y >= 0 and cur_y < len(self.array):\n",
    "            cur_h = self.array[cur_y, cur_x]\n",
    "            count += 1\n",
    "            if cur_h >= self.h: \n",
    "                break\n",
    "            cur_x += step_x\n",
    "            cur_y += step_y\n",
    "        return count\n",
    "    \n",
    "    def look_left(self)->int:\n",
    "        if self.x == 0:\n",
    "            return 0\n",
    "        return self.count(-1, 0)\n",
    "    def look_right(self)->int:\n",
    "        if self.x == len(array[0])-1:\n",
    "            return 0\n",
    "        return self.count(1,0)\n",
    "    def look_up(self)->int: \n",
    "        if self.y == 0:\n",
    "            return 0\n",
    "        return self.count(0, -1)\n",
    "    def look_down(self)->int: \n",
    "        if self.y == len(array)-1:\n",
    "            return 0\n",
    "        return self.count(0,1)\n",
    "    \n",
    "    def scenic_score(self)->int:\n",
    "        if self._scenic_score is None: \n",
    "            self._scenic_score = math.prod([self.look_left(), self.look_right(), self.look_up(), self.look_down()])\n",
    "        return self._scenic_score"
   ]
  },
  {
   "cell_type": "code",
   "execution_count": null,
   "metadata": {},
   "outputs": [],
   "source": [
    "array = np.array(content)"
   ]
  },
  {
   "cell_type": "code",
   "execution_count": null,
   "metadata": {},
   "outputs": [],
   "source": [
    "tree_grid = [Tree(x,y,array) for y in range(len(array)) for x in range(len(array[0]))]\n",
    "    "
   ]
  },
  {
   "cell_type": "markdown",
   "metadata": {},
   "source": [
    "### Part 1"
   ]
  },
  {
   "cell_type": "code",
   "execution_count": null,
   "metadata": {},
   "outputs": [],
   "source": [
    "answ = sum(t.is_seen() for t in tree_grid)"
   ]
  },
  {
   "cell_type": "code",
   "execution_count": null,
   "metadata": {},
   "outputs": [],
   "source": [
    "answ"
   ]
  },
  {
   "cell_type": "code",
   "execution_count": null,
   "metadata": {},
   "outputs": [],
   "source": [
    "puzzle.answer_a = answ"
   ]
  },
  {
   "cell_type": "markdown",
   "metadata": {},
   "source": [
    "### Part 2"
   ]
  },
  {
   "cell_type": "code",
   "execution_count": null,
   "metadata": {},
   "outputs": [],
   "source": [
    "answ = max(t.scenic_score() for t in tree_grid)\n",
    "answ"
   ]
  },
  {
   "cell_type": "code",
   "execution_count": null,
   "metadata": {},
   "outputs": [],
   "source": [
    "puzzle.answer_b = answ"
   ]
  },
  {
   "cell_type": "markdown",
   "metadata": {},
   "source": [
    "## Day 7\n",
    "https://adventofcode.com/2022/day/7\n",
    "### Prepare input "
   ]
  },
  {
   "cell_type": "code",
   "execution_count": null,
   "metadata": {},
   "outputs": [],
   "source": [
    "puzzle = Puzzle(year=2022, day=7)\n",
    "content = puzzle.input_data.split(\"\\n\")"
   ]
  },
  {
   "cell_type": "code",
   "execution_count": null,
   "metadata": {},
   "outputs": [],
   "source": [
    "class Directory: \n",
    "    def __init__(self, path:str, parent_dir:tp.Optional[str]=None): \n",
    "        self.path = path\n",
    "        self.parent_dir = parent_dir\n",
    "        self.subdirs = []\n",
    "        self.file_weight = 0\n",
    "        self._total_weight = 0\n",
    "    \n",
    "    def total_weight(self): \n",
    "        if self._total_weight == 0: \n",
    "            \n",
    "            subweight = sum(subd.total_weight() for subd in self.subdirs) if len(self.subdirs) != 0 else 0\n",
    "            self._total_weight = self.file_weight + subweight\n",
    "            \n",
    "        return self._total_weight\n",
    "    "
   ]
  },
  {
   "cell_type": "code",
   "execution_count": null,
   "metadata": {},
   "outputs": [],
   "source": [
    "def get_path(directory: Directory, name:str)->str: \n",
    "    return os.path.join(directory.path, name) if directory is not None else name"
   ]
  },
  {
   "cell_type": "code",
   "execution_count": null,
   "metadata": {},
   "outputs": [],
   "source": [
    "created = {}\n",
    "\n",
    "idx = 0\n",
    "cur_dir = None\n",
    "\n",
    "for line in content:\n",
    "    cur_line = line.split(\" \")\n",
    "    if cur_line[0]==\"$\" and cur_line[1]==\"ls\": \n",
    "        continue\n",
    "    elif cur_line[0]==\"$\" and cur_line[1]==\"cd\":\n",
    "        name = cur_line[2]\n",
    "        path = get_path(cur_dir, name)\n",
    "        if name == \"..\": \n",
    "            cur_dir = cur_dir.parent_dir \n",
    "        elif path in created.keys(): \n",
    "            cur_dir = created[path]\n",
    "        else: \n",
    "            cur_dir = Directory(path, cur_dir)\n",
    "            created[path] = cur_dir\n",
    "    elif cur_line[0] == \"dir\": \n",
    "        name = cur_line[1]\n",
    "        path = get_path(cur_dir, name)\n",
    "         \n",
    "        new_dir = Directory(path, cur_dir)\n",
    "        created[path] = new_dir\n",
    "        cur_dir.subdirs.append(new_dir)\n",
    "    else: \n",
    "        cur_dir.file_weight += int(cur_line[0])"
   ]
  },
  {
   "cell_type": "markdown",
   "metadata": {},
   "source": [
    "### Part 1"
   ]
  },
  {
   "cell_type": "code",
   "execution_count": null,
   "metadata": {},
   "outputs": [],
   "source": [
    "answ = sum(curdir.total_weight() for curdir in created.values() if curdir.total_weight()<=100000)\n",
    "answ"
   ]
  },
  {
   "cell_type": "code",
   "execution_count": null,
   "metadata": {},
   "outputs": [],
   "source": [
    "puzzle.answer_a = answ"
   ]
  },
  {
   "cell_type": "markdown",
   "metadata": {},
   "source": [
    "### Part 2"
   ]
  },
  {
   "cell_type": "code",
   "execution_count": null,
   "metadata": {},
   "outputs": [],
   "source": [
    "free = 70000000 - created[\"/\"].total_weight()\n",
    "needed = 30000000 - free\n",
    "needed"
   ]
  },
  {
   "cell_type": "code",
   "execution_count": null,
   "metadata": {},
   "outputs": [],
   "source": [
    "answ = min(curdir.total_weight() for curdir in created.values() if curdir.total_weight()>=needed)\n",
    "answ"
   ]
  },
  {
   "cell_type": "code",
   "execution_count": null,
   "metadata": {},
   "outputs": [],
   "source": [
    "puzzle.answer_b = answ"
   ]
  },
  {
   "cell_type": "markdown",
   "metadata": {},
   "source": [
    "## Day 6\n",
    "https://adventofcode.com/2022/day/6\n",
    "### Prepare input"
   ]
  },
  {
   "cell_type": "code",
   "execution_count": null,
   "metadata": {
    "scrolled": true
   },
   "outputs": [],
   "source": [
    "puzzle = Puzzle(year=2022, day=6)\n",
    "content = puzzle.input_data"
   ]
  },
  {
   "cell_type": "markdown",
   "metadata": {},
   "source": [
    "### Part 1"
   ]
  },
  {
   "cell_type": "code",
   "execution_count": null,
   "metadata": {},
   "outputs": [],
   "source": [
    "def find_marker(content:str, start_idx:int)->int: \n",
    "    marker = deque(content[:start_idx-1])\n",
    "    idx = start_idx-1\n",
    "    while True: \n",
    "        marker.append(content[idx])\n",
    "        if len(set(marker)) == len(marker): \n",
    "            break\n",
    "        marker.popleft()\n",
    "        idx += 1\n",
    "\n",
    "    return idx + 1\n"
   ]
  },
  {
   "cell_type": "code",
   "execution_count": null,
   "metadata": {},
   "outputs": [],
   "source": [
    "puzzle.answer_a = find_marker(content, 4)"
   ]
  },
  {
   "cell_type": "markdown",
   "metadata": {},
   "source": [
    "### Part 2"
   ]
  },
  {
   "cell_type": "code",
   "execution_count": null,
   "metadata": {},
   "outputs": [],
   "source": [
    "puzzle.answer_b = find_marker(content, 14)"
   ]
  },
  {
   "cell_type": "markdown",
   "metadata": {},
   "source": [
    "## Day 5\n",
    "https://adventofcode.com/2022/day/5\n",
    "### Prepare input"
   ]
  },
  {
   "cell_type": "code",
   "execution_count": null,
   "metadata": {},
   "outputs": [],
   "source": [
    "puzzle = Puzzle(year=2022, day=5)"
   ]
  },
  {
   "cell_type": "code",
   "execution_count": null,
   "metadata": {},
   "outputs": [],
   "source": [
    "stacks,procedure = puzzle.input_data.split(\"\\n\\n\")"
   ]
  },
  {
   "cell_type": "code",
   "execution_count": null,
   "metadata": {},
   "outputs": [],
   "source": [
    "def prepare_stacks(stacks:list)-> list:\n",
    "    stacks = stacks.split(\"\\n\")[:-1]\n",
    "    transpose_stacks = [''.join(s) for s in zip(*stacks)][1::4]\n",
    "        \n",
    "    new_stacks = [deque(s.strip()) for s in transpose_stacks]\n",
    "    for d in new_stacks:\n",
    "        d.reverse()\n",
    "        \n",
    "    return new_stacks"
   ]
  },
  {
   "cell_type": "code",
   "execution_count": null,
   "metadata": {},
   "outputs": [],
   "source": [
    "new_stacks = prepare_stacks(stacks)"
   ]
  },
  {
   "cell_type": "code",
   "execution_count": null,
   "metadata": {},
   "outputs": [],
   "source": [
    "procedure = procedure.split(\"\\n\")\n",
    "new_procedure = [line.strip(\"move \").replace(\" from \",\",\").replace(\" to \", \",\") for line in procedure]\n",
    "new_procedure = [[int(x) for x in line.split(\",\")] for line in new_procedure]"
   ]
  },
  {
   "cell_type": "markdown",
   "metadata": {},
   "source": [
    "### Part 1"
   ]
  },
  {
   "cell_type": "code",
   "execution_count": null,
   "metadata": {},
   "outputs": [],
   "source": [
    "def apply_procedure(stacks:list, procedure:list, part:tp.Optional[int]=1)->str: \n",
    "    for n_move, col1, col2 in procedure: \n",
    "        if part == 1:\n",
    "            for _ in range(n_move): \n",
    "                stacks[col2-1].append(stacks[col1-1].pop())\n",
    "        else:\n",
    "            substack = []\n",
    "            for _ in range(n_move): \n",
    "                substack.append(stacks[col1-1].pop())\n",
    "            substack.reverse()\n",
    "            stacks[col2-1].extend(substack)\n",
    "        \n",
    "    return \"\".join(d[-1] for d in stacks)"
   ]
  },
  {
   "cell_type": "code",
   "execution_count": null,
   "metadata": {},
   "outputs": [],
   "source": [
    "answ = apply_procedure(new_stacks, new_procedure)"
   ]
  },
  {
   "cell_type": "code",
   "execution_count": null,
   "metadata": {},
   "outputs": [],
   "source": [
    "puzzle.answer_a = answ"
   ]
  },
  {
   "cell_type": "markdown",
   "metadata": {},
   "source": [
    "### Part 2"
   ]
  },
  {
   "cell_type": "code",
   "execution_count": null,
   "metadata": {},
   "outputs": [],
   "source": [
    "new_stacks = prepare_stacks(stacks)\n",
    "answ = apply_procedure(new_stacks, new_procedure, part=2)"
   ]
  },
  {
   "cell_type": "code",
   "execution_count": null,
   "metadata": {},
   "outputs": [],
   "source": [
    "puzzle.answer_b = answ"
   ]
  },
  {
   "cell_type": "markdown",
   "metadata": {},
   "source": [
    "## Day 4\n",
    "https://adventofcode.com/2022/day/4\n",
    "### Prepare input "
   ]
  },
  {
   "cell_type": "code",
   "execution_count": null,
   "metadata": {},
   "outputs": [],
   "source": [
    "puzzle = Puzzle(year=2022, day=4)\n",
    "content = puzzle.input_data.split(\"\\n\")"
   ]
  },
  {
   "cell_type": "code",
   "execution_count": null,
   "metadata": {},
   "outputs": [],
   "source": [
    "content"
   ]
  },
  {
   "cell_type": "code",
   "execution_count": null,
   "metadata": {},
   "outputs": [],
   "source": [
    "def get_int_range(str_range:str)-> list: \n",
    "    start, stop = str_range.split(\"-\")\n",
    "    return set(i for i in range(int(start), int(stop)+1))"
   ]
  },
  {
   "cell_type": "code",
   "execution_count": null,
   "metadata": {},
   "outputs": [],
   "source": [
    "new_content = [[get_int_range(el) for el in pair.split(\",\")] for pair in content]"
   ]
  },
  {
   "cell_type": "markdown",
   "metadata": {},
   "source": [
    "### Part 1 "
   ]
  },
  {
   "cell_type": "code",
   "execution_count": null,
   "metadata": {},
   "outputs": [],
   "source": [
    "count = sum(r1.issubset(r2) or r2.issubset(r1) for r1,r2 in new_content)\n",
    "count"
   ]
  },
  {
   "cell_type": "code",
   "execution_count": null,
   "metadata": {},
   "outputs": [],
   "source": [
    "puzzle.answer_a = count"
   ]
  },
  {
   "cell_type": "markdown",
   "metadata": {},
   "source": [
    "### Part 2"
   ]
  },
  {
   "cell_type": "code",
   "execution_count": null,
   "metadata": {},
   "outputs": [],
   "source": [
    "count = sum(bool(r1&r2) for r1,r2 in new_content)\n",
    "count"
   ]
  },
  {
   "cell_type": "code",
   "execution_count": null,
   "metadata": {},
   "outputs": [],
   "source": [
    "puzzle.answer_b = count"
   ]
  },
  {
   "cell_type": "markdown",
   "metadata": {},
   "source": [
    "## Day 3\n",
    "https://adventofcode.com/2022/day/3\n",
    "### Prepare input"
   ]
  },
  {
   "cell_type": "code",
   "execution_count": null,
   "metadata": {},
   "outputs": [],
   "source": [
    "puzzle = Puzzle(year=2022, day=3)\n",
    "content = puzzle.input_data.split(\"\\n\")"
   ]
  },
  {
   "cell_type": "code",
   "execution_count": null,
   "metadata": {},
   "outputs": [],
   "source": [
    "content"
   ]
  },
  {
   "cell_type": "markdown",
   "metadata": {},
   "source": [
    "### Part 1"
   ]
  },
  {
   "cell_type": "code",
   "execution_count": null,
   "metadata": {},
   "outputs": [],
   "source": [
    "def find_item(items:str)->str: \n",
    "    half = int(len(items)/2)\n",
    "    comp1 = items[:half]\n",
    "    comp2 = items[half:]\n",
    "    \n",
    "    return list(set(comp1)&set(comp2))[0]"
   ]
  },
  {
   "cell_type": "code",
   "execution_count": null,
   "metadata": {},
   "outputs": [],
   "source": [
    "ALPHABET = string.ascii_lowercase+string.ascii_uppercase\n",
    "\n",
    "def get_priority(item:str)->int:\n",
    "    return ALPHABET.rfind(item)+1"
   ]
  },
  {
   "cell_type": "code",
   "execution_count": null,
   "metadata": {},
   "outputs": [],
   "source": [
    "answ = sum(get_priority(find_item(items)) for items in content)\n",
    "answ"
   ]
  },
  {
   "cell_type": "code",
   "execution_count": null,
   "metadata": {},
   "outputs": [],
   "source": [
    "puzzle.answer_a = answ"
   ]
  },
  {
   "cell_type": "markdown",
   "metadata": {},
   "source": [
    "### Part 2"
   ]
  },
  {
   "cell_type": "code",
   "execution_count": null,
   "metadata": {},
   "outputs": [],
   "source": [
    "def find_group_item(group:list)->str: \n",
    "    it1, it2, it3 = group\n",
    "    return list(set(it1)&set(it2)&set(it3))[0]"
   ]
  },
  {
   "cell_type": "code",
   "execution_count": null,
   "metadata": {},
   "outputs": [],
   "source": [
    "answ = sum(get_priority(find_group_item(content[i:i+3])) for i in range(0,len(content),3))\n",
    "answ"
   ]
  },
  {
   "cell_type": "code",
   "execution_count": null,
   "metadata": {},
   "outputs": [],
   "source": [
    "puzzle.answer_b = answ"
   ]
  },
  {
   "cell_type": "markdown",
   "metadata": {},
   "source": [
    "## Day 2\n",
    "https://adventofcode.com/2022/day/2\n",
    "### Prepare input"
   ]
  },
  {
   "cell_type": "code",
   "execution_count": null,
   "metadata": {},
   "outputs": [],
   "source": [
    "puzzle = Puzzle(year=2022, day=2)\n",
    "content = [line.split(\" \") for line in puzzle.input_data.split(\"\\n\")]\n",
    "content"
   ]
  },
  {
   "cell_type": "markdown",
   "metadata": {},
   "source": [
    "### Part 1"
   ]
  },
  {
   "cell_type": "code",
   "execution_count": null,
   "metadata": {},
   "outputs": [],
   "source": [
    "def replace_play(play:str) -> int: \n",
    "    if play in [\"A\", \"X\"]: \n",
    "        return 1\n",
    "    if play in [\"B\", \"Y\"]: \n",
    "        return 2\n",
    "    if play in [\"C\", \"Z\"]:\n",
    "        return 3\n",
    "    \n",
    "def replace_pair(pair:list) -> list: \n",
    "    return [replace_play(x) for x in pair]"
   ]
  },
  {
   "cell_type": "code",
   "execution_count": null,
   "metadata": {},
   "outputs": [],
   "source": [
    "def compute_score(pair:list) -> int: \n",
    "    p1,p2 = replace_pair(pair)\n",
    "    if (p1-p2)%3 == 1:\n",
    "        return p2\n",
    "    if p1 == p2 : \n",
    "        return p2 + 3\n",
    "    return p2 + 6  "
   ]
  },
  {
   "cell_type": "code",
   "execution_count": null,
   "metadata": {},
   "outputs": [],
   "source": [
    "answ = sum(compute_score(pair) for pair in content)\n",
    "answ"
   ]
  },
  {
   "cell_type": "code",
   "execution_count": null,
   "metadata": {},
   "outputs": [],
   "source": [
    "puzzle.answer_a = answ"
   ]
  },
  {
   "cell_type": "markdown",
   "metadata": {},
   "source": [
    "### Part 2"
   ]
  },
  {
   "cell_type": "code",
   "execution_count": null,
   "metadata": {},
   "outputs": [],
   "source": [
    "def compute_score_2(pair:list) -> int: \n",
    "    p1, result = pair\n",
    "    p1 = replace_play(p1)\n",
    "    \n",
    "    if result == \"X\" : \n",
    "        p2 = p1-1\n",
    "        score = p2 if p2 != 0 else 3\n",
    "    elif result == \"Y\": \n",
    "        score = p1 + 3\n",
    "    else: \n",
    "        p2 = p1+1\n",
    "        score = p2 if p2!=4 else 1\n",
    "        score += 6\n",
    "    return score"
   ]
  },
  {
   "cell_type": "code",
   "execution_count": null,
   "metadata": {},
   "outputs": [],
   "source": [
    "answ = sum(compute_score_2(pair) for pair in content)\n",
    "answ"
   ]
  },
  {
   "cell_type": "code",
   "execution_count": null,
   "metadata": {},
   "outputs": [],
   "source": [
    "puzzle.answer_b = answ"
   ]
  },
  {
   "cell_type": "markdown",
   "metadata": {},
   "source": [
    "## Day 1\n",
    "https://adventofcode.com/2022/day/1"
   ]
  },
  {
   "cell_type": "markdown",
   "metadata": {},
   "source": [
    "### Prepare input"
   ]
  },
  {
   "cell_type": "code",
   "execution_count": null,
   "metadata": {},
   "outputs": [],
   "source": [
    "puzzle = Puzzle(year=2022, day=1)"
   ]
  },
  {
   "cell_type": "code",
   "execution_count": null,
   "metadata": {},
   "outputs": [],
   "source": [
    "content =[[int(x) for x in elf.split(\"\\n\")] for elf in puzzle.input_data.split(\"\\n\\n\")]\n",
    "content"
   ]
  },
  {
   "cell_type": "markdown",
   "metadata": {},
   "source": [
    "### Part 1"
   ]
  },
  {
   "cell_type": "code",
   "execution_count": null,
   "metadata": {},
   "outputs": [],
   "source": [
    "answ = max(sum(elf)for elf in content)\n",
    "answ"
   ]
  },
  {
   "cell_type": "code",
   "execution_count": null,
   "metadata": {},
   "outputs": [],
   "source": [
    "puzzle.answer_a = answ"
   ]
  },
  {
   "cell_type": "markdown",
   "metadata": {},
   "source": [
    "### Part 2"
   ]
  },
  {
   "cell_type": "code",
   "execution_count": null,
   "metadata": {},
   "outputs": [],
   "source": [
    "answ = sum(sorted(sum(elf) for elf in content)[-3:])\n",
    "answ"
   ]
  },
  {
   "cell_type": "code",
   "execution_count": null,
   "metadata": {},
   "outputs": [],
   "source": [
    "puzzle.answer_b = answ"
   ]
  }
 ],
 "metadata": {
  "kernelspec": {
   "display_name": "Python [conda env:aoc]",
   "language": "python",
   "name": "conda-env-aoc-py"
  },
  "language_info": {
   "codemirror_mode": {
    "name": "ipython",
    "version": 3
   },
   "file_extension": ".py",
   "mimetype": "text/x-python",
   "name": "python",
   "nbconvert_exporter": "python",
   "pygments_lexer": "ipython3",
   "version": "3.8.5"
  }
 },
 "nbformat": 4,
 "nbformat_minor": 2
}
