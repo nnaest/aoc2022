{
 "cells": [
  {
   "cell_type": "markdown",
   "metadata": {},
   "source": [
    "# AOC 2022\n",
    "\n",
    "Welcome to the Advent of Code 2022 !"
   ]
  },
  {
   "cell_type": "markdown",
   "metadata": {},
   "source": [
    "## Basic configuration\n",
    "\n"
   ]
  },
  {
   "cell_type": "code",
   "execution_count": null,
   "metadata": {},
   "outputs": [],
   "source": [
    "# help for aocd : https://pypi.org/project/advent-of-code-data/\n",
    "\n",
    "#!pip install aocd"
   ]
  },
  {
   "cell_type": "code",
   "execution_count": null,
   "metadata": {},
   "outputs": [],
   "source": [
    "import os\n",
    "\n",
    "# replace by your login session cookie\n",
    "os.environ[\n",
    "    \"AOC_SESSION\"\n",
    "] = \"53616c7465645f5f544b7f45f4e71d3973f588d3fc85718685dea33e470d469bb196eb397334fc5493bfcb535104e92c8e4c0781cf5a6e0a9888e4de1aa51bed\"  # your login session cookie"
   ]
  },
  {
   "cell_type": "code",
   "execution_count": null,
   "metadata": {},
   "outputs": [],
   "source": [
    "from aocd import submit\n",
    "from aocd.models import Puzzle"
   ]
  },
  {
   "cell_type": "code",
   "execution_count": null,
   "metadata": {},
   "outputs": [],
   "source": [
    "import numpy as np\n",
    "from tqdm import tqdm\n",
    "import json\n",
    "import typing as tp\n",
    "from collections import Counter, defaultdict, deque\n",
    "import math\n",
    "from itertools import product\n",
    "import re\n",
    "import string\n",
    "import matplotlib.pyplot as plt"
   ]
  },
  {
   "cell_type": "markdown",
   "metadata": {},
   "source": [
    "## Day 10\n",
    "https://adventofcode.com/2022/day/10\n",
    "### Prepare input "
   ]
  },
  {
   "cell_type": "code",
   "execution_count": null,
   "metadata": {},
   "outputs": [],
   "source": [
    "puzzle = Puzzle(year=2022, day=10)\n",
    "content = puzzle.input_data.split(\"\\n\")"
   ]
  },
  {
   "cell_type": "markdown",
   "metadata": {},
   "source": [
    "### Part 1"
   ]
  },
  {
   "cell_type": "code",
   "execution_count": null,
   "metadata": {},
   "outputs": [],
   "source": [
    "def compute_signal(n,x): \n",
    "    if n%40==20: \n",
    "        return n*x\n",
    "    return 0"
   ]
  },
  {
   "cell_type": "code",
   "execution_count": null,
   "metadata": {},
   "outputs": [],
   "source": [
    "x = 1\n",
    "strenghts = []\n",
    "n_cycle = 0\n",
    "for line in content: \n",
    "    if line==\"noop\": \n",
    "        n_cycle +=1\n",
    "        strenghts.append(compute_signal(n_cycle, x))\n",
    "    else: \n",
    "        n_cycle += 1\n",
    "        strenghts.append(compute_signal(n_cycle, x))\n",
    "        n_cycle += 1\n",
    "        strenghts.append(compute_signal(n_cycle, x))           \n",
    "        _, v = line.split(\" \")\n",
    "        x += int(v)\n",
    "        "
   ]
  },
  {
   "cell_type": "code",
   "execution_count": null,
   "metadata": {},
   "outputs": [],
   "source": [
    "answ = sum(strenghts)"
   ]
  },
  {
   "cell_type": "code",
   "execution_count": null,
   "metadata": {},
   "outputs": [],
   "source": [
    "answ"
   ]
  },
  {
   "cell_type": "code",
   "execution_count": null,
   "metadata": {},
   "outputs": [],
   "source": [
    "puzzle.answer_a = answ"
   ]
  },
  {
   "cell_type": "markdown",
   "metadata": {},
   "source": [
    "### Part 2"
   ]
  },
  {
   "cell_type": "code",
   "execution_count": null,
   "metadata": {},
   "outputs": [],
   "source": [
    "def sprite(x):\n",
    "    return (x-1,x,x+1)"
   ]
  },
  {
   "cell_type": "code",
   "execution_count": null,
   "metadata": {},
   "outputs": [],
   "source": [
    "def draw_crt(crt, crt_pos, x): \n",
    "    line, pos = divmod(crt_pos, 40)\n",
    "    crt.append(1 if pos in sprite(x) else 0)\n",
    "    return crt"
   ]
  },
  {
   "cell_type": "code",
   "execution_count": null,
   "metadata": {},
   "outputs": [],
   "source": [
    "x = 1\n",
    "n_cycle = 0\n",
    "crt = []\n",
    "for line in content:\n",
    "    if line == \"noop\": \n",
    "        crt = draw_crt(crt, n_cycle, x)\n",
    "        n_cycle += 1\n",
    "    else: \n",
    "        crt = draw_crt(crt, n_cycle, x)\n",
    "        n_cycle += 1\n",
    "        \n",
    "        crt = draw_crt(crt, n_cycle, x)\n",
    "        n_cycle += 1\n",
    "        _, v = line.split(\" \")\n",
    "        x += int(v)"
   ]
  },
  {
   "cell_type": "code",
   "execution_count": null,
   "metadata": {},
   "outputs": [],
   "source": [
    "crt = np.array(crt).reshape(6, 40)"
   ]
  },
  {
   "cell_type": "code",
   "execution_count": null,
   "metadata": {},
   "outputs": [],
   "source": [
    "plt.imshow(crt)"
   ]
  },
  {
   "cell_type": "code",
   "execution_count": null,
   "metadata": {},
   "outputs": [],
   "source": [
    "puzzle.answer_b = \"EFGERURE\""
   ]
  },
  {
   "cell_type": "markdown",
   "metadata": {},
   "source": [
    "## Day 9\n",
    "https://adventofcode.com/2022/day/9\n",
    "### Prepare input "
   ]
  },
  {
   "cell_type": "code",
   "execution_count": null,
   "metadata": {},
   "outputs": [],
   "source": [
    "puzzle = Puzzle(year=2022, day=9)\n",
    "content =  puzzle.input_data.split(\"\\n\")\n",
    "new_content = []\n",
    "for line in content: \n",
    "    d, n = line.split(\" \")\n",
    "    new_content.append((d, int(n)))"
   ]
  },
  {
   "cell_type": "code",
   "execution_count": null,
   "metadata": {},
   "outputs": [],
   "source": [
    "new_content"
   ]
  },
  {
   "cell_type": "markdown",
   "metadata": {},
   "source": [
    "### Part 1"
   ]
  },
  {
   "cell_type": "code",
   "execution_count": null,
   "metadata": {},
   "outputs": [],
   "source": [
    "def add_tuple(tup1, tup2): \n",
    "    return tuple(map(lambda i, j: i + j, tup1, tup2))"
   ]
  },
  {
   "cell_type": "code",
   "execution_count": null,
   "metadata": {},
   "outputs": [],
   "source": [
    "def move(pos, movement): \n",
    "    return add_tuple(pos, movement)"
   ]
  },
  {
   "cell_type": "code",
   "execution_count": null,
   "metadata": {},
   "outputs": [],
   "source": [
    "def move_closer(pos1, pos2):\n",
    "    diff_x = pos2[0] - pos1[0]\n",
    "    diff_y = pos2[1] - pos1[1]\n",
    "    \n",
    "    if abs(diff_x)>1:\n",
    "        move_x = math.copysign(1,diff_x) \n",
    "        move_y = math.copysign(1,diff_y) if abs(diff_y)>=1 else 0\n",
    "        \n",
    "    elif abs(diff_y)>1:\n",
    "        move_x = math.copysign(1,diff_x) if abs(diff_x)>=1 else 0\n",
    "        move_y = math.copysign(1,diff_y) \n",
    "    else:\n",
    "        move_x = 0\n",
    "        move_y = 0\n",
    "    \n",
    "    return add_tuple(pos1, (move_x, move_y))"
   ]
  },
  {
   "cell_type": "code",
   "execution_count": null,
   "metadata": {},
   "outputs": [],
   "source": [
    "def move_head(pos_h, direction): \n",
    "    if direction == \"U\": \n",
    "        pos_h = move(pos_h, (0,1))\n",
    "    elif direction == \"D\": \n",
    "        pos_h = move(pos_h, (0,-1))\n",
    "    elif direction == \"L\":\n",
    "        pos_h = move(pos_h, (-1,0))\n",
    "    else: \n",
    "        pos_h = move(pos_h, (1,0))\n",
    "    return pos_h"
   ]
  },
  {
   "cell_type": "code",
   "execution_count": null,
   "metadata": {},
   "outputs": [],
   "source": [
    "pos_h = (0,0)\n",
    "pos_t = (0,0)\n",
    "\n",
    "t_positions = [pos_t]\n",
    "for direction, n in new_content:\n",
    "    for _ in range(n):\n",
    "        pos_h = move_head(pos_h, direction)\n",
    "        \n",
    "        pos_t = move_closer(pos_t, pos_h)\n",
    "        t_positions.append(pos_t)\n"
   ]
  },
  {
   "cell_type": "code",
   "execution_count": null,
   "metadata": {},
   "outputs": [],
   "source": [
    "answ = len(set(t_positions))\n",
    "answ"
   ]
  },
  {
   "cell_type": "code",
   "execution_count": null,
   "metadata": {},
   "outputs": [],
   "source": [
    "puzzle.answer_a = answ"
   ]
  },
  {
   "cell_type": "markdown",
   "metadata": {},
   "source": [
    "### Part 2"
   ]
  },
  {
   "cell_type": "code",
   "execution_count": null,
   "metadata": {},
   "outputs": [],
   "source": [
    "cur_positions = [(0,0)]*10\n",
    "t_positions = [(0,0)]\n",
    "\n",
    "for direction, n in new_content: \n",
    "    for _ in range(n): \n",
    "        new_positions = [move_head(cur_positions[0], direction)]\n",
    "        for i in range(len(cur_positions)-1):\n",
    "            new_pos = move_closer(cur_positions[i+1], new_positions[i])\n",
    "            new_positions.append(new_pos)\n",
    "        t_positions.append(new_positions[-1])\n",
    "        cur_positions = new_positions"
   ]
  },
  {
   "cell_type": "code",
   "execution_count": null,
   "metadata": {},
   "outputs": [],
   "source": [
    "answ = len(set(t_positions))\n",
    "answ"
   ]
  },
  {
   "cell_type": "code",
   "execution_count": null,
   "metadata": {},
   "outputs": [],
   "source": [
    "puzzle.answer_b = answ"
   ]
  },
  {
   "cell_type": "markdown",
   "metadata": {},
   "source": [
    "## Day 8\n",
    "https://adventofcode.com/2022/day/8\n",
    "### Prepare input "
   ]
  },
  {
   "cell_type": "code",
   "execution_count": null,
   "metadata": {},
   "outputs": [],
   "source": [
    "puzzle = Puzzle(year=2022, day=8)\n",
    "content = puzzle.input_data.split(\"\\n\")"
   ]
  },
  {
   "cell_type": "code",
   "execution_count": null,
   "metadata": {},
   "outputs": [],
   "source": [
    "content =[[int(i) for i in line] for line in content]"
   ]
  },
  {
   "cell_type": "code",
   "execution_count": null,
   "metadata": {},
   "outputs": [],
   "source": [
    "class Tree: \n",
    "    def __init__(self, x, y, array): \n",
    "        self.x = x\n",
    "        self.y = y\n",
    "        self.array = array\n",
    "        self.h = array[y,x]\n",
    "        self.on_edge = True if (x in {0, len(array[0])-1} or y in {0, len(array)-1}) else False\n",
    "        self._is_seen = None\n",
    "        self._scenic_score = None\n",
    "        \n",
    "    def check_left(self): \n",
    "        return all(h < self.h for h in self.array[self.y,:self.x])\n",
    "    def check_right(self): \n",
    "        return all(h < self.h for h in self.array[self.y,self.x + 1:])\n",
    "    def check_above(self): \n",
    "        return all(h < self.h for h in self.array[:self.y,self.x])\n",
    "    def check_below(self): \n",
    "        return all(h < self.h for h in self.array[self.y + 1:,self.x])\n",
    "    \n",
    "    def is_seen(self):\n",
    "        if self._is_seen is None:\n",
    "            self._is_seen = True if self.on_edge else any([self.check_left(), self.check_right(), self.check_above(), self.check_below()])\n",
    "        return self._is_seen\n",
    "\n",
    "    \n",
    "    def count(self, step_x, step_y): \n",
    "        cur_x = self.x+step_x\n",
    "        cur_y = self.y+step_y\n",
    "        count = 0\n",
    "        while cur_x >= 0 and cur_x < len(self.array[0]) and cur_y >= 0 and cur_y < len(self.array):\n",
    "            cur_h = self.array[cur_y, cur_x]\n",
    "            count += 1\n",
    "            if cur_h >= self.h: \n",
    "                break\n",
    "            cur_x += step_x\n",
    "            cur_y += step_y\n",
    "        return count\n",
    "    \n",
    "    def look_left(self):\n",
    "        if self.x == 0:\n",
    "            return 0\n",
    "        return self.count(-1, 0)\n",
    "    def look_right(self):\n",
    "        if self.x == len(array[0])-1:\n",
    "            return 0\n",
    "        return self.count(1,0)\n",
    "    def look_up(self): \n",
    "        if self.y == 0:\n",
    "            return 0\n",
    "        return self.count(0, -1)\n",
    "    def look_down(self): \n",
    "        if self.y == len(array)-1:\n",
    "            return 0\n",
    "        return self.count(0,1)\n",
    "    \n",
    "    def scenic_score(self):\n",
    "        if self._scenic_score is None: \n",
    "            self._scenic_score = math.prod([self.look_left(), self.look_right(), self.look_up(), self.look_down()])\n",
    "        return self._scenic_score"
   ]
  },
  {
   "cell_type": "code",
   "execution_count": null,
   "metadata": {},
   "outputs": [],
   "source": [
    "array = np.array(content)"
   ]
  },
  {
   "cell_type": "code",
   "execution_count": null,
   "metadata": {},
   "outputs": [],
   "source": [
    "tree_grid = [Tree(x,y,array) for y in range(len(array)) for x in range(len(array[0]))]\n",
    "    "
   ]
  },
  {
   "cell_type": "markdown",
   "metadata": {},
   "source": [
    "### Part 1"
   ]
  },
  {
   "cell_type": "code",
   "execution_count": null,
   "metadata": {},
   "outputs": [],
   "source": [
    "answ = sum(t.is_seen() for t in tree_grid)"
   ]
  },
  {
   "cell_type": "code",
   "execution_count": null,
   "metadata": {},
   "outputs": [],
   "source": [
    "answ"
   ]
  },
  {
   "cell_type": "code",
   "execution_count": null,
   "metadata": {},
   "outputs": [],
   "source": [
    "puzzle.answer_a = answ"
   ]
  },
  {
   "cell_type": "markdown",
   "metadata": {},
   "source": [
    "### Part 2"
   ]
  },
  {
   "cell_type": "code",
   "execution_count": null,
   "metadata": {},
   "outputs": [],
   "source": [
    "answ = max(t.scenic_score() for t in tree_grid)\n",
    "answ"
   ]
  },
  {
   "cell_type": "code",
   "execution_count": null,
   "metadata": {},
   "outputs": [],
   "source": [
    "puzzle.answer_b = answ"
   ]
  },
  {
   "cell_type": "markdown",
   "metadata": {},
   "source": [
    "## Day 7\n",
    "https://adventofcode.com/2022/day/7\n",
    "### Prepare input "
   ]
  },
  {
   "cell_type": "code",
   "execution_count": null,
   "metadata": {},
   "outputs": [],
   "source": [
    "puzzle = Puzzle(year=2022, day=7)\n",
    "content = puzzle.input_data.split(\"\\n\")"
   ]
  },
  {
   "cell_type": "code",
   "execution_count": null,
   "metadata": {},
   "outputs": [],
   "source": [
    "class Directory: \n",
    "    def __init__(self, path:str, parent_dir:tp.Optional[str]=None): \n",
    "        self.path = path\n",
    "        self.parent_dir = parent_dir\n",
    "        self.subdirs = []\n",
    "        self.file_weight = 0\n",
    "        self._total_weight = 0\n",
    "    \n",
    "    def total_weight(self): \n",
    "        if self._total_weight == 0: \n",
    "            \n",
    "            subweight = sum(subd.total_weight() for subd in self.subdirs) if len(self.subdirs) != 0 else 0\n",
    "            self._total_weight = self.file_weight + subweight\n",
    "            \n",
    "        return self._total_weight\n",
    "    "
   ]
  },
  {
   "cell_type": "code",
   "execution_count": null,
   "metadata": {},
   "outputs": [],
   "source": [
    "def get_path(directory, name): \n",
    "    return os.path.join(directory.path, name) if directory is not None else name"
   ]
  },
  {
   "cell_type": "code",
   "execution_count": null,
   "metadata": {},
   "outputs": [],
   "source": [
    "created = {}\n",
    "\n",
    "idx = 0\n",
    "cur_dir = None\n",
    "\n",
    "for line in content:\n",
    "    cur_line = line.split(\" \")\n",
    "    if cur_line[0]==\"$\" and cur_line[1]==\"ls\": \n",
    "        continue\n",
    "    elif cur_line[0]==\"$\" and cur_line[1]==\"cd\":\n",
    "        name = cur_line[2]\n",
    "        path = get_path(cur_dir, name)\n",
    "        if name == \"..\": \n",
    "            cur_dir = cur_dir.parent_dir \n",
    "        elif path in created.keys(): \n",
    "            cur_dir = created[path]\n",
    "        else: \n",
    "            cur_dir = Directory(path, cur_dir)\n",
    "            created[path] = cur_dir\n",
    "    elif cur_line[0] == \"dir\": \n",
    "        name = cur_line[1]\n",
    "        path = get_path(cur_dir, name)\n",
    "         \n",
    "        new_dir = Directory(path, cur_dir)\n",
    "        created[path] = new_dir\n",
    "        cur_dir.subdirs.append(new_dir)\n",
    "    else: \n",
    "        cur_dir.file_weight += int(cur_line[0])"
   ]
  },
  {
   "cell_type": "markdown",
   "metadata": {},
   "source": [
    "### Part 1"
   ]
  },
  {
   "cell_type": "code",
   "execution_count": null,
   "metadata": {},
   "outputs": [],
   "source": [
    "answ = sum(curdir.total_weight() for curdir in created.values() if curdir.total_weight()<=100000)\n",
    "answ"
   ]
  },
  {
   "cell_type": "code",
   "execution_count": null,
   "metadata": {},
   "outputs": [],
   "source": [
    "puzzle.answer_a = answ"
   ]
  },
  {
   "cell_type": "markdown",
   "metadata": {},
   "source": [
    "### Part 2"
   ]
  },
  {
   "cell_type": "code",
   "execution_count": null,
   "metadata": {},
   "outputs": [],
   "source": [
    "free = 70000000 - created[\"/\"].total_weight()\n",
    "needed = 30000000 - free\n",
    "needed"
   ]
  },
  {
   "cell_type": "code",
   "execution_count": null,
   "metadata": {},
   "outputs": [],
   "source": [
    "answ = min(curdir.total_weight() for curdir in created.values() if curdir.total_weight()>=needed)\n",
    "answ"
   ]
  },
  {
   "cell_type": "code",
   "execution_count": null,
   "metadata": {},
   "outputs": [],
   "source": [
    "puzzle.answer_b = answ"
   ]
  },
  {
   "cell_type": "markdown",
   "metadata": {},
   "source": [
    "## Day 6\n",
    "https://adventofcode.com/2022/day/6\n",
    "### Prepare input"
   ]
  },
  {
   "cell_type": "code",
   "execution_count": null,
   "metadata": {
    "scrolled": true
   },
   "outputs": [],
   "source": [
    "puzzle = Puzzle(year=2022, day=6)\n",
    "content = puzzle.input_data"
   ]
  },
  {
   "cell_type": "markdown",
   "metadata": {},
   "source": [
    "### Part 1"
   ]
  },
  {
   "cell_type": "code",
   "execution_count": null,
   "metadata": {},
   "outputs": [],
   "source": [
    "def find_marker(content, start_idx): \n",
    "    marker = deque(content[:start_idx-1])\n",
    "    idx = start_idx-1\n",
    "    while True: \n",
    "        marker.append(content[idx])\n",
    "        if len(set(marker)) == len(marker): \n",
    "            break\n",
    "        marker.popleft()\n",
    "        idx += 1\n",
    "\n",
    "    return idx + 1\n"
   ]
  },
  {
   "cell_type": "code",
   "execution_count": null,
   "metadata": {},
   "outputs": [],
   "source": [
    "puzzle.answer_a = find_marker(content, 4)"
   ]
  },
  {
   "cell_type": "markdown",
   "metadata": {},
   "source": [
    "### Part 2"
   ]
  },
  {
   "cell_type": "code",
   "execution_count": null,
   "metadata": {},
   "outputs": [],
   "source": [
    "puzzle.answer_b = find_marker(content, 14)"
   ]
  },
  {
   "cell_type": "markdown",
   "metadata": {},
   "source": [
    "## Day 5\n",
    "https://adventofcode.com/2022/day/5\n",
    "### Prepare input"
   ]
  },
  {
   "cell_type": "code",
   "execution_count": null,
   "metadata": {},
   "outputs": [],
   "source": [
    "puzzle = Puzzle(year=2022, day=5)"
   ]
  },
  {
   "cell_type": "code",
   "execution_count": null,
   "metadata": {},
   "outputs": [],
   "source": [
    "stacks,procedure = puzzle.input_data.split(\"\\n\\n\")"
   ]
  },
  {
   "cell_type": "code",
   "execution_count": null,
   "metadata": {},
   "outputs": [],
   "source": [
    "def prepare_stacks(stacks:list)-> list:\n",
    "    stacks = stacks.split(\"\\n\")[:-1]\n",
    "    transpose_stacks = [''.join(s) for s in zip(*stacks)][1::4]\n",
    "        \n",
    "    new_stacks = [deque(s.strip()) for s in transpose_stacks]\n",
    "    for d in new_stacks:\n",
    "        d.reverse()\n",
    "        \n",
    "    return new_stacks"
   ]
  },
  {
   "cell_type": "code",
   "execution_count": null,
   "metadata": {},
   "outputs": [],
   "source": [
    "new_stacks = prepare_stacks(stacks)"
   ]
  },
  {
   "cell_type": "code",
   "execution_count": null,
   "metadata": {},
   "outputs": [],
   "source": [
    "procedure = procedure.split(\"\\n\")\n",
    "new_procedure = [line.strip(\"move \").replace(\" from \",\",\").replace(\" to \", \",\") for line in procedure]\n",
    "new_procedure = [[int(x) for x in line.split(\",\")] for line in new_procedure]"
   ]
  },
  {
   "cell_type": "markdown",
   "metadata": {},
   "source": [
    "### Part 1"
   ]
  },
  {
   "cell_type": "code",
   "execution_count": null,
   "metadata": {},
   "outputs": [],
   "source": [
    "def apply_procedure(stacks, procedure): \n",
    "    for n_move, col1, col2 in procedure: \n",
    "        for _ in range(n_move): \n",
    "            stacks[col2-1].append(stacks[col1-1].pop())\n",
    "            \n",
    "    return \"\".join(d[-1] for d in stacks)"
   ]
  },
  {
   "cell_type": "code",
   "execution_count": null,
   "metadata": {},
   "outputs": [],
   "source": [
    "answ = apply_procedure(new_stacks, new_procedure)"
   ]
  },
  {
   "cell_type": "code",
   "execution_count": null,
   "metadata": {},
   "outputs": [],
   "source": [
    "puzzle.answer_a = answ"
   ]
  },
  {
   "cell_type": "markdown",
   "metadata": {},
   "source": [
    "### Part 2"
   ]
  },
  {
   "cell_type": "code",
   "execution_count": null,
   "metadata": {},
   "outputs": [],
   "source": [
    "new_stacks = prepare_stacks(stacks)"
   ]
  },
  {
   "cell_type": "code",
   "execution_count": null,
   "metadata": {},
   "outputs": [],
   "source": [
    "def apply_procedure_2(stacks, procedure): \n",
    "    for n_move, col1, col2 in procedure: \n",
    "        substack = []\n",
    "        for _ in range(n_move): \n",
    "            substack.append(stacks[col1-1].pop())\n",
    "        substack.reverse()\n",
    "        stacks[col2-1].extend(substack)\n",
    "    return \"\".join(d[-1] for d in stacks)    "
   ]
  },
  {
   "cell_type": "code",
   "execution_count": null,
   "metadata": {},
   "outputs": [],
   "source": [
    "answ = apply_procedure_2(new_stacks, new_procedure)"
   ]
  },
  {
   "cell_type": "code",
   "execution_count": null,
   "metadata": {},
   "outputs": [],
   "source": [
    "answ"
   ]
  },
  {
   "cell_type": "code",
   "execution_count": null,
   "metadata": {},
   "outputs": [],
   "source": [
    "puzzle.answer_b = answ"
   ]
  },
  {
   "cell_type": "markdown",
   "metadata": {},
   "source": [
    "## Day 4\n",
    "https://adventofcode.com/2022/day/4\n",
    "### Prepare input "
   ]
  },
  {
   "cell_type": "code",
   "execution_count": null,
   "metadata": {},
   "outputs": [],
   "source": [
    "puzzle = Puzzle(year=2022, day=4)\n",
    "content = puzzle.input_data.split(\"\\n\")"
   ]
  },
  {
   "cell_type": "code",
   "execution_count": null,
   "metadata": {},
   "outputs": [],
   "source": [
    "content"
   ]
  },
  {
   "cell_type": "code",
   "execution_count": null,
   "metadata": {},
   "outputs": [],
   "source": [
    "def get_int_range(str_range:str)-> list: \n",
    "    start, stop = str_range.split(\"-\")\n",
    "    return set(i for i in range(int(start), int(stop)+1))"
   ]
  },
  {
   "cell_type": "code",
   "execution_count": null,
   "metadata": {},
   "outputs": [],
   "source": [
    "new_content = [[get_int_range(el) for el in pair.split(\",\")] for pair in content]"
   ]
  },
  {
   "cell_type": "markdown",
   "metadata": {},
   "source": [
    "### Part 1 "
   ]
  },
  {
   "cell_type": "code",
   "execution_count": null,
   "metadata": {},
   "outputs": [],
   "source": [
    "count = sum(r1.issubset(r2) or r2.issubset(r1) for r1,r2 in new_content)\n",
    "count"
   ]
  },
  {
   "cell_type": "code",
   "execution_count": null,
   "metadata": {},
   "outputs": [],
   "source": [
    "puzzle.answer_a = count"
   ]
  },
  {
   "cell_type": "markdown",
   "metadata": {},
   "source": [
    "### Part 2"
   ]
  },
  {
   "cell_type": "code",
   "execution_count": null,
   "metadata": {},
   "outputs": [],
   "source": [
    "count = sum(bool(r1&r2) for r1,r2 in new_content)\n",
    "count"
   ]
  },
  {
   "cell_type": "code",
   "execution_count": null,
   "metadata": {},
   "outputs": [],
   "source": [
    "puzzle.answer_b = count"
   ]
  },
  {
   "cell_type": "markdown",
   "metadata": {},
   "source": [
    "## Day 3\n",
    "https://adventofcode.com/2022/day/3\n",
    "### Prepare input"
   ]
  },
  {
   "cell_type": "code",
   "execution_count": null,
   "metadata": {},
   "outputs": [],
   "source": [
    "puzzle = Puzzle(year=2022, day=3)\n",
    "content = puzzle.input_data.split(\"\\n\")"
   ]
  },
  {
   "cell_type": "code",
   "execution_count": null,
   "metadata": {},
   "outputs": [],
   "source": [
    "content"
   ]
  },
  {
   "cell_type": "markdown",
   "metadata": {},
   "source": [
    "### Part 1"
   ]
  },
  {
   "cell_type": "code",
   "execution_count": null,
   "metadata": {},
   "outputs": [],
   "source": [
    "def find_item(items:str)->str: \n",
    "    half = int(len(items)/2)\n",
    "    comp1 = items[:half]\n",
    "    comp2 = items[half:]\n",
    "    \n",
    "    return list(set(comp1)&set(comp2))[0]"
   ]
  },
  {
   "cell_type": "code",
   "execution_count": null,
   "metadata": {},
   "outputs": [],
   "source": [
    "ALPHABET = string.ascii_lowercase+string.ascii_uppercase\n",
    "\n",
    "def get_priority(item):\n",
    "    return ALPHABET.rfind(item)+1"
   ]
  },
  {
   "cell_type": "code",
   "execution_count": null,
   "metadata": {},
   "outputs": [],
   "source": [
    "answ = sum(get_priority(find_item(items)) for items in content)\n",
    "answ"
   ]
  },
  {
   "cell_type": "code",
   "execution_count": null,
   "metadata": {},
   "outputs": [],
   "source": [
    "puzzle.answer_a = answ"
   ]
  },
  {
   "cell_type": "markdown",
   "metadata": {},
   "source": [
    "### Part 2"
   ]
  },
  {
   "cell_type": "code",
   "execution_count": null,
   "metadata": {},
   "outputs": [],
   "source": [
    "def find_group_item(group:list)->str: \n",
    "    it1, it2, it3 = group\n",
    "    return list(set(it1)&set(it2)&set(it3))[0]"
   ]
  },
  {
   "cell_type": "code",
   "execution_count": null,
   "metadata": {},
   "outputs": [],
   "source": [
    "answ = sum(get_priority(find_group_item(content[i:i+3])) for i in range(0,len(content),3))\n",
    "answ"
   ]
  },
  {
   "cell_type": "code",
   "execution_count": null,
   "metadata": {},
   "outputs": [],
   "source": [
    "puzzle.answer_b = answ"
   ]
  },
  {
   "cell_type": "markdown",
   "metadata": {},
   "source": [
    "## Day 2\n",
    "https://adventofcode.com/2022/day/2\n",
    "### Prepare input"
   ]
  },
  {
   "cell_type": "code",
   "execution_count": null,
   "metadata": {},
   "outputs": [],
   "source": [
    "puzzle = Puzzle(year=2022, day=2)\n",
    "content = [line.split(\" \") for line in puzzle.input_data.split(\"\\n\")]\n",
    "content"
   ]
  },
  {
   "cell_type": "markdown",
   "metadata": {},
   "source": [
    "### Part 1"
   ]
  },
  {
   "cell_type": "code",
   "execution_count": null,
   "metadata": {},
   "outputs": [],
   "source": [
    "def replace_play(play:str) -> int: \n",
    "    if play in [\"A\", \"X\"]: \n",
    "        return 1\n",
    "    if play in [\"B\", \"Y\"]: \n",
    "        return 2\n",
    "    if play in [\"C\", \"Z\"]:\n",
    "        return 3\n",
    "    \n",
    "def replace_pair(pair:list) -> list: \n",
    "    return [replace_play(x) for x in pair]"
   ]
  },
  {
   "cell_type": "code",
   "execution_count": null,
   "metadata": {},
   "outputs": [],
   "source": [
    "def compute_score(pair:list) -> int: \n",
    "    p1,p2 = replace_pair(pair)\n",
    "    if (p1-p2)%3 == 1:\n",
    "        return p2\n",
    "    if p1 == p2 : \n",
    "        return p2 + 3\n",
    "    return p2 + 6  "
   ]
  },
  {
   "cell_type": "code",
   "execution_count": null,
   "metadata": {},
   "outputs": [],
   "source": [
    "answ = sum(compute_score(pair) for pair in content)\n",
    "answ"
   ]
  },
  {
   "cell_type": "code",
   "execution_count": null,
   "metadata": {},
   "outputs": [],
   "source": [
    "puzzle.answer_a = answ"
   ]
  },
  {
   "cell_type": "markdown",
   "metadata": {},
   "source": [
    "### Part 2"
   ]
  },
  {
   "cell_type": "code",
   "execution_count": null,
   "metadata": {},
   "outputs": [],
   "source": [
    "def compute_score_2(pair:list) -> int: \n",
    "    p1, result = pair\n",
    "    p1 = replace_play(p1)\n",
    "    \n",
    "    if result == \"X\" : \n",
    "        p2 = p1-1\n",
    "        score = p2 if p2 != 0 else 3\n",
    "    elif result == \"Y\": \n",
    "        score = p1 + 3\n",
    "    else: \n",
    "        p2 = p1+1\n",
    "        score = p2 if p2!=4 else 1\n",
    "        score += 6\n",
    "    return score"
   ]
  },
  {
   "cell_type": "code",
   "execution_count": null,
   "metadata": {},
   "outputs": [],
   "source": [
    "answ = sum(compute_score_2(pair) for pair in content)\n",
    "answ"
   ]
  },
  {
   "cell_type": "code",
   "execution_count": null,
   "metadata": {},
   "outputs": [],
   "source": [
    "puzzle.answer_b = answ"
   ]
  },
  {
   "cell_type": "markdown",
   "metadata": {},
   "source": [
    "## Day 1\n",
    "https://adventofcode.com/2022/day/1"
   ]
  },
  {
   "cell_type": "markdown",
   "metadata": {},
   "source": [
    "### Prepare input"
   ]
  },
  {
   "cell_type": "code",
   "execution_count": null,
   "metadata": {},
   "outputs": [],
   "source": [
    "puzzle = Puzzle(year=2022, day=1)"
   ]
  },
  {
   "cell_type": "code",
   "execution_count": null,
   "metadata": {},
   "outputs": [],
   "source": [
    "content =[[int(x) for x in elf.split(\"\\n\")] for elf in puzzle.input_data.split(\"\\n\\n\")]\n",
    "content"
   ]
  },
  {
   "cell_type": "markdown",
   "metadata": {},
   "source": [
    "### Part 1"
   ]
  },
  {
   "cell_type": "code",
   "execution_count": null,
   "metadata": {},
   "outputs": [],
   "source": [
    "answ = max(sum(elf)for elf in content)\n",
    "answ"
   ]
  },
  {
   "cell_type": "code",
   "execution_count": null,
   "metadata": {},
   "outputs": [],
   "source": [
    "puzzle.answer_a = answ"
   ]
  },
  {
   "cell_type": "markdown",
   "metadata": {},
   "source": [
    "### Part 2"
   ]
  },
  {
   "cell_type": "code",
   "execution_count": null,
   "metadata": {},
   "outputs": [],
   "source": [
    "answ = sum(sorted(sum(elf) for elf in content)[-3:])\n",
    "answ"
   ]
  },
  {
   "cell_type": "code",
   "execution_count": null,
   "metadata": {},
   "outputs": [],
   "source": [
    "puzzle.answer_b = answ"
   ]
  }
 ],
 "metadata": {
  "kernelspec": {
   "display_name": "Python [conda env:aoc]",
   "language": "python",
   "name": "conda-env-aoc-py"
  },
  "language_info": {
   "codemirror_mode": {
    "name": "ipython",
    "version": 3
   },
   "file_extension": ".py",
   "mimetype": "text/x-python",
   "name": "python",
   "nbconvert_exporter": "python",
   "pygments_lexer": "ipython3",
   "version": "3.8.5"
  }
 },
 "nbformat": 4,
 "nbformat_minor": 2
}
